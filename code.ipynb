{
 "cells": [
  {
   "cell_type": "code",
   "execution_count": 3,
   "metadata": {},
   "outputs": [],
   "source": [
    "# Imports\n",
    "import numpy as np\n",
    "import csv"
   ]
  },
  {
   "cell_type": "code",
   "execution_count": 20,
   "metadata": {},
   "outputs": [],
   "source": [
    "# Parse dataset - Currently using Country-data.csv\n",
    "\n",
    "labels = []\n",
    "names = []\n",
    "X = np.array([])\n",
    "with open('datasets/Country-data.csv', 'r') as f:\n",
    "    reader = list(csv.reader(f))\n",
    "    labels = reader[1]\n",
    "    X = np.zeros(dtype=float, shape=(len(reader) - 1, len(reader[0]) - 1))\n",
    "    for i in range(1, len(reader)):\n",
    "        X[i - 1] = np.array([reader[i][1:]])\n",
    "        names.append(reader[i])"
   ]
  },
  {
   "cell_type": "code",
   "execution_count": null,
   "metadata": {},
   "outputs": [
    {
     "data": {
      "text/plain": [
       "(5, 9)"
      ]
     },
     "execution_count": 36,
     "metadata": {},
     "output_type": "execute_result"
    }
   ],
   "source": [
    "# Computing the encoding and decoding matrices\n",
    "\n",
    "X_sym = X.transpose() @ X\n",
    "\n",
    "# Compute eigenvectors\n",
    "eigenvalues, eigenvectors = np.linalg.eig(X_sym)\n",
    "indices = np.argpartition(eigenvalues, -1 * l)[:-1 * l + 1]\n",
    "\n",
    "# Create decoding matrix\n",
    "DECODER = eigenvectors[indices]\n",
    "ENCODER = DECODER.transpose()\n",
    "\n"
   ]
  },
  {
   "cell_type": "code",
   "execution_count": null,
   "metadata": {},
   "outputs": [],
   "source": []
  }
 ],
 "metadata": {
  "kernelspec": {
   "display_name": "PCA",
   "language": "python",
   "name": "python3"
  },
  "language_info": {
   "codemirror_mode": {
    "name": "ipython",
    "version": 3
   },
   "file_extension": ".py",
   "mimetype": "text/x-python",
   "name": "python",
   "nbconvert_exporter": "python",
   "pygments_lexer": "ipython3",
   "version": "3.13.2"
  }
 },
 "nbformat": 4,
 "nbformat_minor": 2
}
