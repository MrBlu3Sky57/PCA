{
 "cells": [
  {
   "cell_type": "code",
   "execution_count": 61,
   "metadata": {},
   "outputs": [],
   "source": [
    "# Imports\n",
    "import numpy as np\n",
    "import csv"
   ]
  },
  {
   "cell_type": "code",
   "execution_count": 62,
   "metadata": {},
   "outputs": [],
   "source": [
    "# Parse dataset - Currently using Country-data.csv\n",
    "\n",
    "labels = []\n",
    "names = []\n",
    "X = np.array([])\n",
    "with open('datasets/Country-data.csv', 'r') as f:\n",
    "    reader = list(csv.reader(f))\n",
    "    labels = reader[1]\n",
    "    X = np.zeros(dtype=float, shape=(len(reader) - 1, len(reader[0]) - 1))\n",
    "    for i in range(1, len(reader)):\n",
    "        X[i - 1] = np.array([reader[i][1:]])\n",
    "        names.append(reader[i])"
   ]
  },
  {
   "cell_type": "code",
   "execution_count": null,
   "metadata": {},
   "outputs": [],
   "source": [
    "# Computing the encoding and decoding matrices\n",
    "# Use encoding space of size L = 5\n",
    "L = \n",
    "\n",
    "# Compute Covariance matrix\n",
    "X_MEAN = np.mean(X, axis=0)\n",
    "X_CENTERED = X - X_MEAN\n",
    "X_sym = X_CENTERED.T @ X_CENTERED\n",
    "\n",
    "# Compute eigenvectors\n",
    "eigenvalues, eigenvectors = np.linalg.eig(X_sym)\n",
    "indices = np.argsort(eigenvalues)[::-1][:L]\n",
    "\n",
    "# Create decoding matrix\n",
    "ENCODER = eigenvectors[:, indices] # Get columns vectors associated to eigenvectors"
   ]
  },
  {
   "cell_type": "code",
   "execution_count": null,
   "metadata": {},
   "outputs": [
    {
     "name": "stdout",
     "output_type": "stream",
     "text": [
      "Singular Value Ratio: 0.9992\n"
     ]
    }
   ],
   "source": [
    "# Encode vectors\n",
    "C = X_CENTERED @ ENCODER"
   ]
  },
  {
   "cell_type": "code",
   "execution_count": null,
   "metadata": {},
   "outputs": [],
   "source": [
    "# CHECK HOW WELL ENCODING WORKED\n",
    "X_RECONSTRUCT = C @ ENCODER.T\n",
    "U, S, Vt = np.linalg.svd(X_CENTERED, full_matrices=False)\n",
    "singular_value_ratio = np.sum(S[:L]) / np.sum(S)\n",
    "\n",
    "print(f\"Singular Value Ratio: {singular_value_ratio:.4f}\")"
   ]
  }
 ],
 "metadata": {
  "kernelspec": {
   "display_name": "PCA",
   "language": "python",
   "name": "python3"
  },
  "language_info": {
   "codemirror_mode": {
    "name": "ipython",
    "version": 3
   },
   "file_extension": ".py",
   "mimetype": "text/x-python",
   "name": "python",
   "nbconvert_exporter": "python",
   "pygments_lexer": "ipython3",
   "version": "3.13.2"
  }
 },
 "nbformat": 4,
 "nbformat_minor": 2
}
