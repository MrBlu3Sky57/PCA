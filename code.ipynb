{
 "cells": [
  {
   "cell_type": "code",
   "execution_count": 3,
   "metadata": {},
   "outputs": [],
   "source": [
    "# Imports\n",
    "import numpy as np\n",
    "import csv"
   ]
  },
  {
   "cell_type": "code",
   "execution_count": null,
   "metadata": {},
   "outputs": [
    {
     "name": "stdout",
     "output_type": "stream",
     "text": [
      "(167, 9)\n"
     ]
    }
   ],
   "source": [
    "# Parse dataset - Currently using Country-data.csv\n",
    "\n",
    "labels = []\n",
    "names = []\n",
    "data = np.array([])\n",
    "with open('datasets/Country-data.csv', 'r') as f:\n",
    "    reader = list(csv.reader(f))\n",
    "    labels = reader[1]\n",
    "    data = np.zeros(dtype=float, shape=(len(reader) - 1, len(reader[0]) - 1))\n",
    "    for i in range(1, len(reader)):\n",
    "        data[i - 1] = np.array([reader[i][1:]])\n",
    "        names.append(reader[i])"
   ]
  }
 ],
 "metadata": {
  "kernelspec": {
   "display_name": "PCA",
   "language": "python",
   "name": "python3"
  },
  "language_info": {
   "codemirror_mode": {
    "name": "ipython",
    "version": 3
   },
   "file_extension": ".py",
   "mimetype": "text/x-python",
   "name": "python",
   "nbconvert_exporter": "python",
   "pygments_lexer": "ipython3",
   "version": "3.13.2"
  }
 },
 "nbformat": 4,
 "nbformat_minor": 2
}
